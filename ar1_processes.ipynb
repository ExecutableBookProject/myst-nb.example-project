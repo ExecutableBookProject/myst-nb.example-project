{
 "cells": [
  {
   "cell_type": "markdown",
   "metadata": {},
   "source": [
    "(ar1_processes)=\n",
    "# AR1 Processes\n",
    "\n",
    "```{contents}\n",
    "---\n",
    "depth: 2\n",
    "---\n",
    "```\n",
    "\n",
    "If you haven't already, check out our on\n",
    "dynamics.\n",
    "\n",
    "## Overview\n",
    "\n",
    "In this lecture we are going to study a very simple class of stochastic\n",
    "models called AR(1) processes.\n",
    "\n",
    "These simple models are used again and again in economic research to\n",
    "represent the dynamics of series such as\n",
    "\n",
    "-   labor income\n",
    "-   dividends\n",
    "-   productivity, etc.\n",
    "\n",
    "AR(1) processes can take negative values but are easily converted into\n",
    "positive processes when necessary by a transformation such as\n",
    "exponentiation.\n",
    "\n",
    "We are going to study AR(1) processes partly because they are useful and\n",
    "partly because they help us understand important concepts.\n",
    "\n",
    "Let\\'s start with some imports:"
   ]
  },
  {
   "cell_type": "code",
   "execution_count": 3,
   "metadata": {},
   "outputs": [],
   "source": [
    "import numpy as np\n",
    "import matplotlib.pyplot as plt\n",
    "%matplotlib inline"
   ]
  }
 ],
 "metadata": {
  "kernelspec": {
   "display_name": "Python 3",
   "language": "python",
   "name": "python3"
  },
  "language_info": {
   "codemirror_mode": {
    "name": "ipython",
    "version": 3
   },
   "file_extension": ".py",
   "mimetype": "text/x-python",
   "name": "python",
   "nbconvert_exporter": "python",
   "pygments_lexer": "ipython3",
   "version": "3.8.1"
  }
 },
 "nbformat": 4,
 "nbformat_minor": 4
}